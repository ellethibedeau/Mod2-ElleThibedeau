{
 "cells": [
  {
   "cell_type": "markdown",
   "id": "5190b54c-d49c-4d6f-80cc-22555336a9cd",
   "metadata": {},
   "source": [
    "# Week 2 - Preprocessing, part 2\n",
    "\n",
    "# 1. Lesson: None"
   ]
  },
  {
   "cell_type": "markdown",
   "id": "47c4e5ff-b05f-4ef2-96f1-49dcb5beb158",
   "metadata": {},
   "source": [
    "# 2. Weekly graph question"
   ]
  },
  {
   "cell_type": "markdown",
   "id": "aad37e29-6e84-41fa-886d-abc1312213ab",
   "metadata": {},
   "source": [
    "The Storytelling With Data book mentions planning on a \"Who, What, and How\" for your data story.  Write down a possible Who, What, and How for your data, using the ideas in the book."
   ]
  },
  {
   "cell_type": "markdown",
   "id": "7da2cbdb",
   "metadata": {},
   "source": [
    "Who: medical professionals\n",
    "What: Patterns across different variables that can lead to the detection of various diseases\n",
    "How: Visual graphs that compare variables present the data"
   ]
  },
  {
   "cell_type": "markdown",
   "id": "898eb327-aefd-4ac0-b95a-92b616a2181b",
   "metadata": {},
   "source": [
    "# 3. Homework - work with your own data"
   ]
  },
  {
   "cell_type": "code",
   "execution_count": 2,
   "id": "fe925521-979f-4983-8d85-8db8d1316e99",
   "metadata": {},
   "outputs": [
    {
     "name": "stdout",
     "output_type": "stream",
     "text": [
      "Diabetes Dataset:\n",
      "   Diabetes_binary  HighBP  HighChol  CholCheck   BMI  Smoker  Stroke  \\\n",
      "0              0.0     1.0       0.0        1.0  26.0     0.0     0.0   \n",
      "1              0.0     1.0       1.0        1.0  26.0     1.0     1.0   \n",
      "2              0.0     0.0       0.0        1.0  26.0     0.0     0.0   \n",
      "3              0.0     1.0       1.0        1.0  28.0     1.0     0.0   \n",
      "4              0.0     0.0       0.0        1.0  29.0     1.0     0.0   \n",
      "\n",
      "   HeartDiseaseorAttack  PhysActivity  Fruits  ...  AnyHealthcare  \\\n",
      "0                   0.0           1.0     0.0  ...            1.0   \n",
      "1                   0.0           0.0     1.0  ...            1.0   \n",
      "2                   0.0           1.0     1.0  ...            1.0   \n",
      "3                   0.0           1.0     1.0  ...            1.0   \n",
      "4                   0.0           1.0     1.0  ...            1.0   \n",
      "\n",
      "   NoDocbcCost  GenHlth  MentHlth  PhysHlth  DiffWalk  Sex   Age  Education  \\\n",
      "0          0.0      3.0       5.0      30.0       0.0  1.0   4.0        6.0   \n",
      "1          0.0      3.0       0.0       0.0       0.0  1.0  12.0        6.0   \n",
      "2          0.0      1.0       0.0      10.0       0.0  1.0  13.0        6.0   \n",
      "3          0.0      3.0       0.0       3.0       0.0  1.0  11.0        6.0   \n",
      "4          0.0      2.0       0.0       0.0       0.0  0.0   8.0        5.0   \n",
      "\n",
      "   Income  \n",
      "0     8.0  \n",
      "1     8.0  \n",
      "2     8.0  \n",
      "3     8.0  \n",
      "4     8.0  \n",
      "\n",
      "[5 rows x 22 columns] \n",
      "\n",
      "Kidney Dataset:\n",
      "   PatientID  Age  Gender  Ethnicity  SocioeconomicStatus  EducationLevel  \\\n",
      "0          1   71       0          0                    0               2   \n",
      "1          2   34       0          0                    1               3   \n",
      "2          3   80       1          1                    0               1   \n",
      "3          4   40       0          2                    0               1   \n",
      "4          5   43       0          1                    1               2   \n",
      "\n",
      "         BMI  Smoking  AlcoholConsumption  PhysicalActivity  ...   Itching  \\\n",
      "0  31.069414        1            5.128112          1.676220  ...  7.556302   \n",
      "1  29.692119        1           18.609552          8.377574  ...  6.836766   \n",
      "2  37.394822        1           11.882429          9.607401  ...  2.144722   \n",
      "3  31.329680        0           16.020165          0.408871  ...  7.077188   \n",
      "4  23.726311        0            7.944146          0.780319  ...  3.553118   \n",
      "\n",
      "   QualityOfLifeScore  HeavyMetalsExposure  OccupationalExposureChemicals  \\\n",
      "0           76.076800                    0                              0   \n",
      "1           40.128498                    0                              0   \n",
      "2           92.872842                    0                              1   \n",
      "3           90.080321                    0                              0   \n",
      "4            5.258372                    0                              0   \n",
      "\n",
      "   WaterQuality  MedicalCheckupsFrequency  MedicationAdherence  \\\n",
      "0             1                  1.018824             4.966808   \n",
      "1             0                  3.923538             8.189275   \n",
      "2             1                  1.429906             7.624028   \n",
      "3             0                  3.226416             3.282688   \n",
      "4             1                  0.285466             3.849498   \n",
      "\n",
      "   HealthLiteracy  Diagnosis  DoctorInCharge  \n",
      "0        9.871449          1    Confidential  \n",
      "1        7.161765          1    Confidential  \n",
      "2        7.354632          1    Confidential  \n",
      "3        6.629587          1    Confidential  \n",
      "4        1.437385          1    Confidential  \n",
      "\n",
      "[5 rows x 54 columns] \n",
      "\n",
      "Hypertension Dataset:\n",
      "     Country  Age   BMI  Cholesterol  Systolic_BP  Diastolic_BP  \\\n",
      "0         UK   58  29.5          230          160            79   \n",
      "1      Spain   34  36.2          201          120            84   \n",
      "2  Indonesia   73  18.2          173          156            60   \n",
      "3     Canada   60  20.3          183          122            94   \n",
      "4     France   73  21.8          296           91            97   \n",
      "\n",
      "  Smoking_Status  Alcohol_Intake Physical_Activity_Level Family_History  ...  \\\n",
      "0          Never            27.9                     Low            Yes  ...   \n",
      "1          Never            27.5                    High            Yes  ...   \n",
      "2        Current             1.8                    High            Yes  ...   \n",
      "3          Never            11.6                Moderate            Yes  ...   \n",
      "4          Never            29.1                Moderate            Yes  ...   \n",
      "\n",
      "  Sleep_Duration  Heart_Rate  LDL  HDL  Triglycerides  Glucose  Gender  \\\n",
      "0            6.1          80  100   75             72      179  Female   \n",
      "1            9.8          56   77   47             90      113    Male   \n",
      "2            5.2          75  162   56             81      101    Male   \n",
      "3            7.5          71  164   93             94      199  Female   \n",
      "4            5.0          52  108   74            226      157  Female   \n",
      "\n",
      "   Education_Level  Employment_Status Hypertension  \n",
      "0          Primary         Unemployed         High  \n",
      "1        Secondary         Unemployed         High  \n",
      "2          Primary           Employed          Low  \n",
      "3        Secondary            Retired         High  \n",
      "4          Primary           Employed         High  \n",
      "\n",
      "[5 rows x 23 columns] \n",
      "\n"
     ]
    }
   ],
   "source": [
    "import pandas as pd\n",
    "import numpy as np\n",
    "from datetime import datetime, timedelta\n",
    "\n",
    "df_diabetes = pd.read_csv(\"diabetes_dataset.csv\")\n",
    "df_kidney = pd.read_csv(\"Kidney_dataset.csv\")\n",
    "df_hypertension = pd.read_csv(\"hypertension_dataset.csv\")\n",
    "\n",
    "print(\"Diabetes Dataset:\")\n",
    "print(df_diabetes.head(), \"\\n\")\n",
    "\n",
    "print(\"Kidney Dataset:\")\n",
    "print(df_kidney.head(), \"\\n\")\n",
    "\n",
    "print(\"Hypertension Dataset:\")\n",
    "print(df_hypertension.head(), \"\\n\")"
   ]
  },
  {
   "cell_type": "markdown",
   "id": "14836788-b235-4cd4-b94d-5f749c6141a8",
   "metadata": {},
   "source": [
    "This week, you will do the same types of exercises as last week, but you should use your chosen datasets that someone in your class found last semester. (They likely will not be the particular datasets that you found yourself.)\n",
    "\n",
    "### Here are some types of analysis you can do  Use Google, documentation, and ChatGPT to help you:\n",
    "\n",
    "- Summarize the datasets using info() and describe()\n",
    "\n",
    "- Are there any duplicate rows?\n",
    "\n",
    "- Are there any duplicate values in a given column (when this would be inappropriate?)\n",
    "\n",
    "- What are the mean, median, and mode of each column?\n",
    "\n",
    "- Are there any missing or null values?\n",
    "\n",
    "    - Do you want to fill in the missing value with a mean value?  A value of your choice?  Remove that row?\n",
    "\n",
    "- Identify any other inconsistent data (e.g. someone seems to be taking an action before they are born.)\n",
    "\n",
    "- Encode any categorical variables (e.g. with one-hot encoding.)\n",
    "\n",
    "### Conclusions:\n",
    "\n",
    "- Are the data usable?  If not, find some new data!\n",
    "\n",
    "- Do you need to modify or correct the data in some way?\n",
    "\n",
    "- Is there any class imbalance?  (Categories that have many more items than other categories)."
   ]
  },
  {
   "cell_type": "code",
   "execution_count": 3,
   "id": "81c29e14",
   "metadata": {},
   "outputs": [
    {
     "name": "stdout",
     "output_type": "stream",
     "text": [
      "Diabetes Dataset Info:\n",
      "<class 'pandas.core.frame.DataFrame'>\n",
      "RangeIndex: 70692 entries, 0 to 70691\n",
      "Data columns (total 22 columns):\n",
      " #   Column                Non-Null Count  Dtype  \n",
      "---  ------                --------------  -----  \n",
      " 0   Diabetes_binary       70692 non-null  float64\n",
      " 1   HighBP                70692 non-null  float64\n",
      " 2   HighChol              70692 non-null  float64\n",
      " 3   CholCheck             70692 non-null  float64\n",
      " 4   BMI                   70692 non-null  float64\n",
      " 5   Smoker                70692 non-null  float64\n",
      " 6   Stroke                70692 non-null  float64\n",
      " 7   HeartDiseaseorAttack  70692 non-null  float64\n",
      " 8   PhysActivity          70692 non-null  float64\n",
      " 9   Fruits                70692 non-null  float64\n",
      " 10  Veggies               70692 non-null  float64\n",
      " 11  HvyAlcoholConsump     70692 non-null  float64\n",
      " 12  AnyHealthcare         70692 non-null  float64\n",
      " 13  NoDocbcCost           70692 non-null  float64\n",
      " 14  GenHlth               70692 non-null  float64\n",
      " 15  MentHlth              70692 non-null  float64\n",
      " 16  PhysHlth              70692 non-null  float64\n",
      " 17  DiffWalk              70692 non-null  float64\n",
      " 18  Sex                   70692 non-null  float64\n",
      " 19  Age                   70692 non-null  float64\n",
      " 20  Education             70692 non-null  float64\n",
      " 21  Income                70692 non-null  float64\n",
      "dtypes: float64(22)\n",
      "memory usage: 11.9 MB\n",
      "Diabetes Dataset Description:\n",
      "       Diabetes_binary        HighBP      HighChol     CholCheck  \\\n",
      "count     70692.000000  70692.000000  70692.000000  70692.000000   \n",
      "mean          0.500000      0.563458      0.525703      0.975259   \n",
      "std           0.500004      0.495960      0.499342      0.155336   \n",
      "min           0.000000      0.000000      0.000000      0.000000   \n",
      "25%           0.000000      0.000000      0.000000      1.000000   \n",
      "50%           0.500000      1.000000      1.000000      1.000000   \n",
      "75%           1.000000      1.000000      1.000000      1.000000   \n",
      "max           1.000000      1.000000      1.000000      1.000000   \n",
      "\n",
      "                BMI        Smoker        Stroke  HeartDiseaseorAttack  \\\n",
      "count  70692.000000  70692.000000  70692.000000          70692.000000   \n",
      "mean      29.856985      0.475273      0.062171              0.147810   \n",
      "std        7.113954      0.499392      0.241468              0.354914   \n",
      "min       12.000000      0.000000      0.000000              0.000000   \n",
      "25%       25.000000      0.000000      0.000000              0.000000   \n",
      "50%       29.000000      0.000000      0.000000              0.000000   \n",
      "75%       33.000000      1.000000      0.000000              0.000000   \n",
      "max       98.000000      1.000000      1.000000              1.000000   \n",
      "\n",
      "       PhysActivity        Fruits  ...  AnyHealthcare   NoDocbcCost  \\\n",
      "count  70692.000000  70692.000000  ...   70692.000000  70692.000000   \n",
      "mean       0.703036      0.611795  ...       0.954960      0.093914   \n",
      "std        0.456924      0.487345  ...       0.207394      0.291712   \n",
      "min        0.000000      0.000000  ...       0.000000      0.000000   \n",
      "25%        0.000000      0.000000  ...       1.000000      0.000000   \n",
      "50%        1.000000      1.000000  ...       1.000000      0.000000   \n",
      "75%        1.000000      1.000000  ...       1.000000      0.000000   \n",
      "max        1.000000      1.000000  ...       1.000000      1.000000   \n",
      "\n",
      "            GenHlth      MentHlth      PhysHlth      DiffWalk           Sex  \\\n",
      "count  70692.000000  70692.000000  70692.000000  70692.000000  70692.000000   \n",
      "mean       2.837082      3.752037      5.810417      0.252730      0.456997   \n",
      "std        1.113565      8.155627     10.062261      0.434581      0.498151   \n",
      "min        1.000000      0.000000      0.000000      0.000000      0.000000   \n",
      "25%        2.000000      0.000000      0.000000      0.000000      0.000000   \n",
      "50%        3.000000      0.000000      0.000000      0.000000      0.000000   \n",
      "75%        4.000000      2.000000      6.000000      1.000000      1.000000   \n",
      "max        5.000000     30.000000     30.000000      1.000000      1.000000   \n",
      "\n",
      "                Age     Education        Income  \n",
      "count  70692.000000  70692.000000  70692.000000  \n",
      "mean       8.584055      4.920953      5.698311  \n",
      "std        2.852153      1.029081      2.175196  \n",
      "min        1.000000      1.000000      1.000000  \n",
      "25%        7.000000      4.000000      4.000000  \n",
      "50%        9.000000      5.000000      6.000000  \n",
      "75%       11.000000      6.000000      8.000000  \n",
      "max       13.000000      6.000000      8.000000  \n",
      "\n",
      "[8 rows x 22 columns]\n"
     ]
    }
   ],
   "source": [
    "print('Diabetes Dataset Info:')\n",
    "df_diabetes.info()\n",
    "print('Diabetes Dataset Description:')\n",
    "print(df_diabetes.describe(include='all'))"
   ]
  },
  {
   "cell_type": "code",
   "execution_count": 7,
   "id": "9d88133a",
   "metadata": {},
   "outputs": [
    {
     "name": "stdout",
     "output_type": "stream",
     "text": [
      "Diabetes dataset duplicates: 1635\n"
     ]
    }
   ],
   "source": [
    "print(\"Diabetes dataset duplicates:\", df_diabetes.duplicated().sum())"
   ]
  },
  {
   "cell_type": "code",
   "execution_count": 8,
   "id": "6731a0d4",
   "metadata": {},
   "outputs": [
    {
     "name": "stdout",
     "output_type": "stream",
     "text": [
      "Index(['Diabetes_binary', 'HighBP', 'HighChol', 'CholCheck', 'BMI', 'Smoker',\n",
      "       'Stroke', 'HeartDiseaseorAttack', 'PhysActivity', 'Fruits', 'Veggies',\n",
      "       'HvyAlcoholConsump', 'AnyHealthcare', 'NoDocbcCost', 'GenHlth',\n",
      "       'MentHlth', 'PhysHlth', 'DiffWalk', 'Sex', 'Age', 'Education',\n",
      "       'Income'],\n",
      "      dtype='object')\n"
     ]
    }
   ],
   "source": [
    "print(df_diabetes.columns)"
   ]
  },
  {
   "cell_type": "markdown",
   "id": "14b446b9",
   "metadata": {},
   "source": [
    "There are duplicates, and this could be valid in certain columns such as age, sex, etc. If there were unique identifiers such as Patient ID we could look into those rows more. However, without these unique IDs duplicates are valid and will be kept."
   ]
  },
  {
   "cell_type": "code",
   "execution_count": 10,
   "id": "3c6c313c",
   "metadata": {},
   "outputs": [
    {
     "name": "stdout",
     "output_type": "stream",
     "text": [
      "Mean: Diabetes_binary          0.500000\n",
      "HighBP                   0.563458\n",
      "HighChol                 0.525703\n",
      "CholCheck                0.975259\n",
      "BMI                     29.856985\n",
      "Smoker                   0.475273\n",
      "Stroke                   0.062171\n",
      "HeartDiseaseorAttack     0.147810\n",
      "PhysActivity             0.703036\n",
      "Fruits                   0.611795\n",
      "Veggies                  0.788774\n",
      "HvyAlcoholConsump        0.042721\n",
      "AnyHealthcare            0.954960\n",
      "NoDocbcCost              0.093914\n",
      "GenHlth                  2.837082\n",
      "MentHlth                 3.752037\n",
      "PhysHlth                 5.810417\n",
      "DiffWalk                 0.252730\n",
      "Sex                      0.456997\n",
      "Age                      8.584055\n",
      "Education                4.920953\n",
      "Income                   5.698311\n",
      "dtype: float64\n",
      "Median: Diabetes_binary          0.5\n",
      "HighBP                   1.0\n",
      "HighChol                 1.0\n",
      "CholCheck                1.0\n",
      "BMI                     29.0\n",
      "Smoker                   0.0\n",
      "Stroke                   0.0\n",
      "HeartDiseaseorAttack     0.0\n",
      "PhysActivity             1.0\n",
      "Fruits                   1.0\n",
      "Veggies                  1.0\n",
      "HvyAlcoholConsump        0.0\n",
      "AnyHealthcare            1.0\n",
      "NoDocbcCost              0.0\n",
      "GenHlth                  3.0\n",
      "MentHlth                 0.0\n",
      "PhysHlth                 0.0\n",
      "DiffWalk                 0.0\n",
      "Sex                      0.0\n",
      "Age                      9.0\n",
      "Education                5.0\n",
      "Income                   6.0\n",
      "dtype: float64\n",
      "Mode: Diabetes_binary          0.0\n",
      "HighBP                   1.0\n",
      "HighChol                 1.0\n",
      "CholCheck                1.0\n",
      "BMI                     27.0\n",
      "Smoker                   0.0\n",
      "Stroke                   0.0\n",
      "HeartDiseaseorAttack     0.0\n",
      "PhysActivity             1.0\n",
      "Fruits                   1.0\n",
      "Veggies                  1.0\n",
      "HvyAlcoholConsump        0.0\n",
      "AnyHealthcare            1.0\n",
      "NoDocbcCost              0.0\n",
      "GenHlth                  3.0\n",
      "MentHlth                 0.0\n",
      "PhysHlth                 0.0\n",
      "DiffWalk                 0.0\n",
      "Sex                      0.0\n",
      "Age                     10.0\n",
      "Education                6.0\n",
      "Income                   8.0\n",
      "Name: 0, dtype: float64\n"
     ]
    }
   ],
   "source": [
    "print(\"Mean:\", df_diabetes.mean(numeric_only=True))\n",
    "print(\"Median:\", df_diabetes.median(numeric_only=True))\n",
    "print(\"Mode:\", df_diabetes.mode(numeric_only=True).iloc[0])"
   ]
  },
  {
   "cell_type": "code",
   "execution_count": 11,
   "id": "d3838356",
   "metadata": {},
   "outputs": [
    {
     "name": "stdout",
     "output_type": "stream",
     "text": [
      "Missing or null values in Diabetes Dataset:\n",
      "Diabetes_binary         0\n",
      "HighBP                  0\n",
      "HighChol                0\n",
      "CholCheck               0\n",
      "BMI                     0\n",
      "Smoker                  0\n",
      "Stroke                  0\n",
      "HeartDiseaseorAttack    0\n",
      "PhysActivity            0\n",
      "Fruits                  0\n",
      "Veggies                 0\n",
      "HvyAlcoholConsump       0\n",
      "AnyHealthcare           0\n",
      "NoDocbcCost             0\n",
      "GenHlth                 0\n",
      "MentHlth                0\n",
      "PhysHlth                0\n",
      "DiffWalk                0\n",
      "Sex                     0\n",
      "Age                     0\n",
      "Education               0\n",
      "Income                  0\n",
      "dtype: int64\n"
     ]
    }
   ],
   "source": [
    "print('Missing or null values in Diabetes Dataset:')\n",
    "print(df_diabetes.isnull().sum())"
   ]
  },
  {
   "cell_type": "markdown",
   "id": "9d823ceb",
   "metadata": {},
   "source": [
    "No missing or null = clean"
   ]
  },
  {
   "cell_type": "code",
   "execution_count": 12,
   "id": "3e0e654d",
   "metadata": {},
   "outputs": [
    {
     "name": "stdout",
     "output_type": "stream",
     "text": [
      "Diabetes_binary         0\n",
      "HighBP                  0\n",
      "HighChol                0\n",
      "CholCheck               0\n",
      "BMI                     0\n",
      "Smoker                  0\n",
      "Stroke                  0\n",
      "HeartDiseaseorAttack    0\n",
      "PhysActivity            0\n",
      "Fruits                  0\n",
      "Veggies                 0\n",
      "HvyAlcoholConsump       0\n",
      "AnyHealthcare           0\n",
      "NoDocbcCost             0\n",
      "GenHlth                 0\n",
      "MentHlth                0\n",
      "PhysHlth                0\n",
      "DiffWalk                0\n",
      "Sex                     0\n",
      "Age                     0\n",
      "Education               0\n",
      "Income                  0\n",
      "dtype: int64\n"
     ]
    }
   ],
   "source": [
    "print((df_diabetes < 0).sum())"
   ]
  },
  {
   "cell_type": "markdown",
   "id": "cb2a68a6",
   "metadata": {},
   "source": [
    "No negatives in these columns. = clean"
   ]
  },
  {
   "cell_type": "code",
   "execution_count": null,
   "id": "204bc409",
   "metadata": {},
   "outputs": [
    {
     "name": "stdout",
     "output_type": "stream",
     "text": [
      "Age unique values: [np.float64(1.0), np.float64(2.0), np.float64(3.0), np.float64(4.0), np.float64(5.0), np.float64(6.0), np.float64(7.0), np.float64(8.0), np.float64(9.0), np.float64(10.0), np.float64(11.0), np.float64(12.0), np.float64(13.0)]\n",
      "GenHlth values: [3. 1. 2. 4. 5.]\n"
     ]
    }
   ],
   "source": [
    "print(\"Age unique values:\", sorted(df_diabetes['Age'].unique()))\n",
    "print(\"GenHlth values:\", df_diabetes['GenHlth'].unique())"
   ]
  },
  {
   "cell_type": "markdown",
   "id": "135d621c",
   "metadata": {},
   "source": [
    "These are ordinal categorical values (ex: age ranges). No outliers/strange values = clean"
   ]
  },
  {
   "cell_type": "code",
   "execution_count": 15,
   "id": "d97c6186",
   "metadata": {},
   "outputs": [],
   "source": [
    "df_diabetes = pd.get_dummies(df_diabetes, columns=['Sex'], drop_first=True)"
   ]
  },
  {
   "cell_type": "markdown",
   "id": "e4205bf4",
   "metadata": {},
   "source": [
    "Diabetes Conclusions: No missing/null data, duplicates were investigated. No apparent inconsistencies. Encoding: most categorical variables were ordinal and left as is, aside from sex which was encoded to numerical (no inherent order, male or female). Data is clean and ready for further modeling or exloratory analysis."
   ]
  },
  {
   "cell_type": "code",
   "execution_count": 4,
   "id": "ddcf6551",
   "metadata": {},
   "outputs": [
    {
     "name": "stdout",
     "output_type": "stream",
     "text": [
      "Kidney Dataset Info:\n",
      "<class 'pandas.core.frame.DataFrame'>\n",
      "RangeIndex: 1659 entries, 0 to 1658\n",
      "Data columns (total 54 columns):\n",
      " #   Column                         Non-Null Count  Dtype  \n",
      "---  ------                         --------------  -----  \n",
      " 0   PatientID                      1659 non-null   int64  \n",
      " 1   Age                            1659 non-null   int64  \n",
      " 2   Gender                         1659 non-null   int64  \n",
      " 3   Ethnicity                      1659 non-null   int64  \n",
      " 4   SocioeconomicStatus            1659 non-null   int64  \n",
      " 5   EducationLevel                 1659 non-null   int64  \n",
      " 6   BMI                            1659 non-null   float64\n",
      " 7   Smoking                        1659 non-null   int64  \n",
      " 8   AlcoholConsumption             1659 non-null   float64\n",
      " 9   PhysicalActivity               1659 non-null   float64\n",
      " 10  DietQuality                    1659 non-null   float64\n",
      " 11  SleepQuality                   1659 non-null   float64\n",
      " 12  FamilyHistoryKidneyDisease     1659 non-null   int64  \n",
      " 13  FamilyHistoryHypertension      1659 non-null   int64  \n",
      " 14  FamilyHistoryDiabetes          1659 non-null   int64  \n",
      " 15  PreviousAcuteKidneyInjury      1659 non-null   int64  \n",
      " 16  UrinaryTractInfections         1659 non-null   int64  \n",
      " 17  SystolicBP                     1659 non-null   int64  \n",
      " 18  DiastolicBP                    1659 non-null   int64  \n",
      " 19  FastingBloodSugar              1659 non-null   float64\n",
      " 20  HbA1c                          1659 non-null   float64\n",
      " 21  SerumCreatinine                1659 non-null   float64\n",
      " 22  BUNLevels                      1659 non-null   float64\n",
      " 23  GFR                            1659 non-null   float64\n",
      " 24  ProteinInUrine                 1659 non-null   float64\n",
      " 25  ACR                            1659 non-null   float64\n",
      " 26  SerumElectrolytesSodium        1659 non-null   float64\n",
      " 27  SerumElectrolytesPotassium     1659 non-null   float64\n",
      " 28  SerumElectrolytesCalcium       1659 non-null   float64\n",
      " 29  SerumElectrolytesPhosphorus    1659 non-null   float64\n",
      " 30  HemoglobinLevels               1659 non-null   float64\n",
      " 31  CholesterolTotal               1659 non-null   float64\n",
      " 32  CholesterolLDL                 1659 non-null   float64\n",
      " 33  CholesterolHDL                 1659 non-null   float64\n",
      " 34  CholesterolTriglycerides       1659 non-null   float64\n",
      " 35  ACEInhibitors                  1659 non-null   int64  \n",
      " 36  Diuretics                      1659 non-null   int64  \n",
      " 37  NSAIDsUse                      1659 non-null   float64\n",
      " 38  Statins                        1659 non-null   int64  \n",
      " 39  AntidiabeticMedications        1659 non-null   int64  \n",
      " 40  Edema                          1659 non-null   int64  \n",
      " 41  FatigueLevels                  1659 non-null   float64\n",
      " 42  NauseaVomiting                 1659 non-null   float64\n",
      " 43  MuscleCramps                   1659 non-null   float64\n",
      " 44  Itching                        1659 non-null   float64\n",
      " 45  QualityOfLifeScore             1659 non-null   float64\n",
      " 46  HeavyMetalsExposure            1659 non-null   int64  \n",
      " 47  OccupationalExposureChemicals  1659 non-null   int64  \n",
      " 48  WaterQuality                   1659 non-null   int64  \n",
      " 49  MedicalCheckupsFrequency       1659 non-null   float64\n",
      " 50  MedicationAdherence            1659 non-null   float64\n",
      " 51  HealthLiteracy                 1659 non-null   float64\n",
      " 52  Diagnosis                      1659 non-null   int64  \n",
      " 53  DoctorInCharge                 1659 non-null   object \n",
      "dtypes: float64(30), int64(23), object(1)\n",
      "memory usage: 700.0+ KB\n",
      "Kidney Dataset Description:\n",
      "          PatientID          Age       Gender   Ethnicity  \\\n",
      "count   1659.000000  1659.000000  1659.000000  1659.00000   \n",
      "unique          NaN          NaN          NaN         NaN   \n",
      "top             NaN          NaN          NaN         NaN   \n",
      "freq            NaN          NaN          NaN         NaN   \n",
      "mean     830.000000    54.441230     0.515371     0.71308   \n",
      "std      479.056364    20.549757     0.499914     1.00043   \n",
      "min        1.000000    20.000000     0.000000     0.00000   \n",
      "25%      415.500000    36.000000     0.000000     0.00000   \n",
      "50%      830.000000    54.000000     1.000000     0.00000   \n",
      "75%     1244.500000    72.000000     1.000000     1.00000   \n",
      "max     1659.000000    90.000000     1.000000     3.00000   \n",
      "\n",
      "        SocioeconomicStatus  EducationLevel          BMI      Smoking  \\\n",
      "count           1659.000000     1659.000000  1659.000000  1659.000000   \n",
      "unique                  NaN             NaN          NaN          NaN   \n",
      "top                     NaN             NaN          NaN          NaN   \n",
      "freq                    NaN             NaN          NaN          NaN   \n",
      "mean               0.977697        1.693189    27.620049     0.292948   \n",
      "std                0.776686        0.910611     7.288670     0.455252   \n",
      "min                0.000000        0.000000    15.033888     0.000000   \n",
      "25%                0.000000        1.000000    21.471449     0.000000   \n",
      "50%                1.000000        2.000000    27.652077     0.000000   \n",
      "75%                2.000000        2.000000    34.015849     1.000000   \n",
      "max                2.000000        3.000000    39.993532     1.000000   \n",
      "\n",
      "        AlcoholConsumption  PhysicalActivity  ...      Itching  \\\n",
      "count          1659.000000       1659.000000  ...  1659.000000   \n",
      "unique                 NaN               NaN  ...          NaN   \n",
      "top                    NaN               NaN  ...          NaN   \n",
      "freq                   NaN               NaN  ...          NaN   \n",
      "mean              9.969831          5.024247  ...     5.054869   \n",
      "std               5.798787          2.866274  ...     2.880460   \n",
      "min               0.021740          0.001186  ...     0.013697   \n",
      "25%               5.051156          2.555038  ...     2.532867   \n",
      "50%               9.951503          5.072395  ...     5.087086   \n",
      "75%              14.967100          7.460563  ...     7.552093   \n",
      "max              19.992713          9.998167  ...     9.998313   \n",
      "\n",
      "        QualityOfLifeScore  HeavyMetalsExposure  \\\n",
      "count          1659.000000          1659.000000   \n",
      "unique                 NaN                  NaN   \n",
      "top                    NaN                  NaN   \n",
      "freq                   NaN                  NaN   \n",
      "mean             49.730659             0.044002   \n",
      "std              27.827593             0.205162   \n",
      "min               0.087256             0.000000   \n",
      "25%              26.991708             0.000000   \n",
      "50%              48.970075             0.000000   \n",
      "75%              73.913997             0.000000   \n",
      "max              99.987510             1.000000   \n",
      "\n",
      "        OccupationalExposureChemicals  WaterQuality  MedicalCheckupsFrequency  \\\n",
      "count                     1659.000000   1659.000000               1659.000000   \n",
      "unique                            NaN           NaN                       NaN   \n",
      "top                               NaN           NaN                       NaN   \n",
      "freq                              NaN           NaN                       NaN   \n",
      "mean                         0.103074      0.197107                  2.000336   \n",
      "std                          0.304147      0.397934                  1.141635   \n",
      "min                          0.000000      0.000000                  0.001082   \n",
      "25%                          0.000000      0.000000                  1.005802   \n",
      "50%                          0.000000      0.000000                  2.040635   \n",
      "75%                          0.000000      0.000000                  2.947213   \n",
      "max                          1.000000      1.000000                  3.999469   \n",
      "\n",
      "        MedicationAdherence  HealthLiteracy    Diagnosis  DoctorInCharge  \n",
      "count           1659.000000     1659.000000  1659.000000            1659  \n",
      "unique                  NaN             NaN          NaN               1  \n",
      "top                     NaN             NaN          NaN    Confidential  \n",
      "freq                    NaN             NaN          NaN            1659  \n",
      "mean               4.947788        5.144973     0.918626             NaN  \n",
      "std                2.869959        2.901138     0.273492             NaN  \n",
      "min                0.005392        0.004436     0.000000             NaN  \n",
      "25%                2.498119        2.569561     1.000000             NaN  \n",
      "50%                4.974069        5.182949     1.000000             NaN  \n",
      "75%                7.499783        7.733253     1.000000             NaN  \n",
      "max                9.992345        9.993754     1.000000             NaN  \n",
      "\n",
      "[11 rows x 54 columns]\n"
     ]
    }
   ],
   "source": [
    "print('Kidney Dataset Info:')\n",
    "df_kidney.info()\n",
    "print('Kidney Dataset Description:')\n",
    "print(df_kidney.describe(include='all'))"
   ]
  },
  {
   "cell_type": "code",
   "execution_count": 16,
   "id": "2ddc1284",
   "metadata": {},
   "outputs": [
    {
     "name": "stdout",
     "output_type": "stream",
     "text": [
      "Kidney dataset duplicates: 0\n"
     ]
    }
   ],
   "source": [
    "print(\"Kidney dataset duplicates:\", df_kidney.duplicated().sum())"
   ]
  },
  {
   "cell_type": "code",
   "execution_count": 18,
   "id": "a0ce2523",
   "metadata": {},
   "outputs": [
    {
     "name": "stdout",
     "output_type": "stream",
     "text": [
      "Mean: PatientID                        830.000000\n",
      "Age                               54.441230\n",
      "Gender                             0.515371\n",
      "Ethnicity                          0.713080\n",
      "SocioeconomicStatus                0.977697\n",
      "EducationLevel                     1.693189\n",
      "BMI                               27.620049\n",
      "Smoking                            0.292948\n",
      "AlcoholConsumption                 9.969831\n",
      "PhysicalActivity                   5.024247\n",
      "DietQuality                        5.028544\n",
      "SleepQuality                       6.942324\n",
      "FamilyHistoryKidneyDisease         0.141049\n",
      "FamilyHistoryHypertension          0.301386\n",
      "FamilyHistoryDiabetes              0.257384\n",
      "PreviousAcuteKidneyInjury          0.105485\n",
      "UrinaryTractInfections             0.210368\n",
      "SystolicBP                       134.392405\n",
      "DiastolicBP                       89.313442\n",
      "FastingBloodSugar                132.529429\n",
      "HbA1c                              6.983682\n",
      "SerumCreatinine                    2.753198\n",
      "BUNLevels                         27.578147\n",
      "GFR                               66.829202\n",
      "ProteinInUrine                     2.493736\n",
      "ACR                              149.881615\n",
      "SerumElectrolytesSodium          139.968984\n",
      "SerumElectrolytesPotassium         4.505336\n",
      "SerumElectrolytesCalcium           9.489156\n",
      "SerumElectrolytesPhosphorus        3.505543\n",
      "HemoglobinLevels                  13.927304\n",
      "CholesterolTotal                 224.251158\n",
      "CholesterolLDL                   125.044597\n",
      "CholesterolHDL                    60.746861\n",
      "CholesterolTriglycerides         224.804603\n",
      "ACEInhibitors                      0.295359\n",
      "Diuretics                          0.318264\n",
      "NSAIDsUse                          5.011715\n",
      "Statins                            0.380952\n",
      "AntidiabeticMedications            0.202532\n",
      "Edema                              0.201929\n",
      "FatigueLevels                      5.016697\n",
      "NauseaVomiting                     3.482121\n",
      "MuscleCramps                       3.525510\n",
      "Itching                            5.054869\n",
      "QualityOfLifeScore                49.730659\n",
      "HeavyMetalsExposure                0.044002\n",
      "OccupationalExposureChemicals      0.103074\n",
      "WaterQuality                       0.197107\n",
      "MedicalCheckupsFrequency           2.000336\n",
      "MedicationAdherence                4.947788\n",
      "HealthLiteracy                     5.144973\n",
      "Diagnosis                          0.918626\n",
      "dtype: float64\n",
      "Median: PatientID                        830.000000\n",
      "Age                               54.000000\n",
      "Gender                             1.000000\n",
      "Ethnicity                          0.000000\n",
      "SocioeconomicStatus                1.000000\n",
      "EducationLevel                     2.000000\n",
      "BMI                               27.652077\n",
      "Smoking                            0.000000\n",
      "AlcoholConsumption                 9.951503\n",
      "PhysicalActivity                   5.072395\n",
      "DietQuality                        4.989810\n",
      "SleepQuality                       6.933255\n",
      "FamilyHistoryKidneyDisease         0.000000\n",
      "FamilyHistoryHypertension          0.000000\n",
      "FamilyHistoryDiabetes              0.000000\n",
      "PreviousAcuteKidneyInjury          0.000000\n",
      "UrinaryTractInfections             0.000000\n",
      "SystolicBP                       134.000000\n",
      "DiastolicBP                       89.000000\n",
      "FastingBloodSugar                131.478423\n",
      "HbA1c                              6.988001\n",
      "SerumCreatinine                    2.732006\n",
      "BUNLevels                         28.077796\n",
      "GFR                               66.555207\n",
      "ProteinInUrine                     2.505260\n",
      "ACR                              150.195312\n",
      "SerumElectrolytesSodium          139.863171\n",
      "SerumElectrolytesPotassium         4.505416\n",
      "SerumElectrolytesCalcium           9.470789\n",
      "SerumElectrolytesPhosphorus        3.511712\n",
      "HemoglobinLevels                  13.909388\n",
      "CholesterolTotal                 223.202106\n",
      "CholesterolLDL                   126.537520\n",
      "CholesterolHDL                    61.845056\n",
      "CholesterolTriglycerides         226.466365\n",
      "ACEInhibitors                      0.000000\n",
      "Diuretics                          0.000000\n",
      "NSAIDsUse                          5.078511\n",
      "Statins                            0.000000\n",
      "AntidiabeticMedications            0.000000\n",
      "Edema                              0.000000\n",
      "FatigueLevels                      5.117247\n",
      "NauseaVomiting                     3.519894\n",
      "MuscleCramps                       3.572522\n",
      "Itching                            5.087086\n",
      "QualityOfLifeScore                48.970075\n",
      "HeavyMetalsExposure                0.000000\n",
      "OccupationalExposureChemicals      0.000000\n",
      "WaterQuality                       0.000000\n",
      "MedicalCheckupsFrequency           2.040635\n",
      "MedicationAdherence                4.974069\n",
      "HealthLiteracy                     5.182949\n",
      "Diagnosis                          1.000000\n",
      "dtype: float64\n",
      "Mode: PatientID                          1.000000\n",
      "Age                               81.000000\n",
      "Gender                             1.000000\n",
      "Ethnicity                          0.000000\n",
      "SocioeconomicStatus                1.000000\n",
      "EducationLevel                     2.000000\n",
      "BMI                               15.033888\n",
      "Smoking                            0.000000\n",
      "AlcoholConsumption                 0.021740\n",
      "PhysicalActivity                   0.001186\n",
      "DietQuality                        0.002407\n",
      "SleepQuality                       4.001053\n",
      "FamilyHistoryKidneyDisease         0.000000\n",
      "FamilyHistoryHypertension          0.000000\n",
      "FamilyHistoryDiabetes              0.000000\n",
      "PreviousAcuteKidneyInjury          0.000000\n",
      "UrinaryTractInfections             0.000000\n",
      "SystolicBP                       116.000000\n",
      "DiastolicBP                       89.000000\n",
      "FastingBloodSugar                 70.044768\n",
      "HbA1c                              4.000405\n",
      "SerumCreatinine                    0.501799\n",
      "BUNLevels                          5.000249\n",
      "GFR                               15.107850\n",
      "ProteinInUrine                     0.000900\n",
      "ACR                                0.178427\n",
      "SerumElectrolytesSodium          135.006489\n",
      "SerumElectrolytesPotassium         3.503408\n",
      "SerumElectrolytesCalcium           8.500033\n",
      "SerumElectrolytesPhosphorus        2.503727\n",
      "HemoglobinLevels                  10.004223\n",
      "CholesterolTotal                 150.015707\n",
      "CholesterolLDL                    50.074597\n",
      "CholesterolHDL                    20.030993\n",
      "CholesterolTriglycerides          50.267668\n",
      "ACEInhibitors                      0.000000\n",
      "Diuretics                          0.000000\n",
      "NSAIDsUse                          0.000469\n",
      "Statins                            0.000000\n",
      "AntidiabeticMedications            0.000000\n",
      "Edema                              0.000000\n",
      "FatigueLevels                      0.015194\n",
      "NauseaVomiting                     0.005171\n",
      "MuscleCramps                       0.006327\n",
      "Itching                            0.013697\n",
      "QualityOfLifeScore                 0.087256\n",
      "HeavyMetalsExposure                0.000000\n",
      "OccupationalExposureChemicals      0.000000\n",
      "WaterQuality                       0.000000\n",
      "MedicalCheckupsFrequency           0.001082\n",
      "MedicationAdherence                0.005392\n",
      "HealthLiteracy                     0.004436\n",
      "Diagnosis                          1.000000\n",
      "Name: 0, dtype: float64\n"
     ]
    }
   ],
   "source": [
    "print(\"Mean:\", df_kidney.mean(numeric_only=True))\n",
    "print(\"Median:\", df_kidney.median(numeric_only=True))\n",
    "print(\"Mode:\", df_kidney.mode(numeric_only=True).iloc[0])"
   ]
  },
  {
   "cell_type": "code",
   "execution_count": 20,
   "id": "15ef9331",
   "metadata": {},
   "outputs": [
    {
     "name": "stdout",
     "output_type": "stream",
     "text": [
      "Missing or null values in Kindey Dataset:\n",
      "PatientID                        0\n",
      "Age                              0\n",
      "Gender                           0\n",
      "Ethnicity                        0\n",
      "SocioeconomicStatus              0\n",
      "EducationLevel                   0\n",
      "BMI                              0\n",
      "Smoking                          0\n",
      "AlcoholConsumption               0\n",
      "PhysicalActivity                 0\n",
      "DietQuality                      0\n",
      "SleepQuality                     0\n",
      "FamilyHistoryKidneyDisease       0\n",
      "FamilyHistoryHypertension        0\n",
      "FamilyHistoryDiabetes            0\n",
      "PreviousAcuteKidneyInjury        0\n",
      "UrinaryTractInfections           0\n",
      "SystolicBP                       0\n",
      "DiastolicBP                      0\n",
      "FastingBloodSugar                0\n",
      "HbA1c                            0\n",
      "SerumCreatinine                  0\n",
      "BUNLevels                        0\n",
      "GFR                              0\n",
      "ProteinInUrine                   0\n",
      "ACR                              0\n",
      "SerumElectrolytesSodium          0\n",
      "SerumElectrolytesPotassium       0\n",
      "SerumElectrolytesCalcium         0\n",
      "SerumElectrolytesPhosphorus      0\n",
      "HemoglobinLevels                 0\n",
      "CholesterolTotal                 0\n",
      "CholesterolLDL                   0\n",
      "CholesterolHDL                   0\n",
      "CholesterolTriglycerides         0\n",
      "ACEInhibitors                    0\n",
      "Diuretics                        0\n",
      "NSAIDsUse                        0\n",
      "Statins                          0\n",
      "AntidiabeticMedications          0\n",
      "Edema                            0\n",
      "FatigueLevels                    0\n",
      "NauseaVomiting                   0\n",
      "MuscleCramps                     0\n",
      "Itching                          0\n",
      "QualityOfLifeScore               0\n",
      "HeavyMetalsExposure              0\n",
      "OccupationalExposureChemicals    0\n",
      "WaterQuality                     0\n",
      "MedicalCheckupsFrequency         0\n",
      "MedicationAdherence              0\n",
      "HealthLiteracy                   0\n",
      "Diagnosis                        0\n",
      "DoctorInCharge                   0\n",
      "dtype: int64\n"
     ]
    }
   ],
   "source": [
    "print('Missing or null values in Kindey Dataset:')\n",
    "print(df_kidney.isnull().sum())"
   ]
  },
  {
   "cell_type": "code",
   "execution_count": 24,
   "id": "e0b53146",
   "metadata": {},
   "outputs": [
    {
     "name": "stdout",
     "output_type": "stream",
     "text": [
      "Index(['PatientID', 'Age', 'Gender', 'Ethnicity', 'SocioeconomicStatus',\n",
      "       'EducationLevel', 'BMI', 'Smoking', 'AlcoholConsumption',\n",
      "       'PhysicalActivity', 'DietQuality', 'SleepQuality',\n",
      "       'FamilyHistoryKidneyDisease', 'FamilyHistoryHypertension',\n",
      "       'FamilyHistoryDiabetes', 'PreviousAcuteKidneyInjury',\n",
      "       'UrinaryTractInfections', 'SystolicBP', 'DiastolicBP',\n",
      "       'FastingBloodSugar', 'HbA1c', 'SerumCreatinine', 'BUNLevels', 'GFR',\n",
      "       'ProteinInUrine', 'ACR', 'SerumElectrolytesSodium',\n",
      "       'SerumElectrolytesPotassium', 'SerumElectrolytesCalcium',\n",
      "       'SerumElectrolytesPhosphorus', 'HemoglobinLevels', 'CholesterolTotal',\n",
      "       'CholesterolLDL', 'CholesterolHDL', 'CholesterolTriglycerides',\n",
      "       'ACEInhibitors', 'Diuretics', 'NSAIDsUse', 'Statins',\n",
      "       'AntidiabeticMedications', 'Edema', 'FatigueLevels', 'NauseaVomiting',\n",
      "       'MuscleCramps', 'Itching', 'QualityOfLifeScore', 'HeavyMetalsExposure',\n",
      "       'OccupationalExposureChemicals', 'WaterQuality',\n",
      "       'MedicalCheckupsFrequency', 'MedicationAdherence', 'HealthLiteracy',\n",
      "       'Diagnosis', 'DoctorInCharge'],\n",
      "      dtype='object')\n"
     ]
    }
   ],
   "source": [
    "print(df_kidney.columns)"
   ]
  },
  {
   "cell_type": "code",
   "execution_count": 27,
   "id": "ca6f0575",
   "metadata": {},
   "outputs": [
    {
     "name": "stdout",
     "output_type": "stream",
     "text": [
      "Age unique values: [np.int64(20), np.int64(21), np.int64(22), np.int64(23), np.int64(24), np.int64(25), np.int64(26), np.int64(27), np.int64(28), np.int64(29), np.int64(30), np.int64(31), np.int64(32), np.int64(33), np.int64(34), np.int64(35), np.int64(36), np.int64(37), np.int64(38), np.int64(39), np.int64(40), np.int64(41), np.int64(42), np.int64(43), np.int64(44), np.int64(45), np.int64(46), np.int64(47), np.int64(48), np.int64(49), np.int64(50), np.int64(51), np.int64(52), np.int64(53), np.int64(54), np.int64(55), np.int64(56), np.int64(57), np.int64(58), np.int64(59), np.int64(60), np.int64(61), np.int64(62), np.int64(63), np.int64(64), np.int64(65), np.int64(66), np.int64(67), np.int64(68), np.int64(69), np.int64(70), np.int64(71), np.int64(72), np.int64(73), np.int64(74), np.int64(75), np.int64(76), np.int64(77), np.int64(78), np.int64(79), np.int64(80), np.int64(81), np.int64(82), np.int64(83), np.int64(84), np.int64(85), np.int64(86), np.int64(87), np.int64(88), np.int64(89), np.int64(90)]\n",
      "Gender unique values: [0 1]\n"
     ]
    }
   ],
   "source": [
    "print(\"Age unique values:\", sorted(df_kidney['Age'].unique()))\n",
    "\n",
    "print(\"Gender unique values:\", df_kidney['Gender'].unique())"
   ]
  },
  {
   "cell_type": "markdown",
   "id": "14504b13",
   "metadata": {},
   "source": [
    "Age is done numerically (not in age ranges like the Diabetes Dataset) and Gender is numerical 0 or 1. =clean"
   ]
  },
  {
   "cell_type": "markdown",
   "id": "ffd6091b",
   "metadata": {},
   "source": [
    "Kidney Dataset Conclusions: The kidney dataset is clean and ready for modeling. No duplicates or null info. Ages are normal, gender/sex is numerical 0, 1. No major outliers."
   ]
  },
  {
   "cell_type": "code",
   "execution_count": 5,
   "id": "cfae6f87",
   "metadata": {},
   "outputs": [
    {
     "name": "stdout",
     "output_type": "stream",
     "text": [
      "Hypertension Dataset Info:\n",
      "<class 'pandas.core.frame.DataFrame'>\n",
      "RangeIndex: 174982 entries, 0 to 174981\n",
      "Data columns (total 23 columns):\n",
      " #   Column                   Non-Null Count   Dtype  \n",
      "---  ------                   --------------   -----  \n",
      " 0   Country                  174982 non-null  object \n",
      " 1   Age                      174982 non-null  int64  \n",
      " 2   BMI                      174982 non-null  float64\n",
      " 3   Cholesterol              174982 non-null  int64  \n",
      " 4   Systolic_BP              174982 non-null  int64  \n",
      " 5   Diastolic_BP             174982 non-null  int64  \n",
      " 6   Smoking_Status           174982 non-null  object \n",
      " 7   Alcohol_Intake           174982 non-null  float64\n",
      " 8   Physical_Activity_Level  174982 non-null  object \n",
      " 9   Family_History           174982 non-null  object \n",
      " 10  Diabetes                 174982 non-null  object \n",
      " 11  Stress_Level             174982 non-null  int64  \n",
      " 12  Salt_Intake              174982 non-null  float64\n",
      " 13  Sleep_Duration           174982 non-null  float64\n",
      " 14  Heart_Rate               174982 non-null  int64  \n",
      " 15  LDL                      174982 non-null  int64  \n",
      " 16  HDL                      174982 non-null  int64  \n",
      " 17  Triglycerides            174982 non-null  int64  \n",
      " 18  Glucose                  174982 non-null  int64  \n",
      " 19  Gender                   174982 non-null  object \n",
      " 20  Education_Level          174982 non-null  object \n",
      " 21  Employment_Status        174982 non-null  object \n",
      " 22  Hypertension             174982 non-null  object \n",
      "dtypes: float64(4), int64(10), object(9)\n",
      "memory usage: 30.7+ MB\n",
      "Hypertension Dataset Description:\n",
      "             Country            Age            BMI    Cholesterol  \\\n",
      "count         174982  174982.000000  174982.000000  174982.000000   \n",
      "unique            20            NaN            NaN            NaN   \n",
      "top     Saudi Arabia            NaN            NaN            NaN   \n",
      "freq            8931            NaN            NaN            NaN   \n",
      "mean             NaN      53.493319      27.494672     224.539335   \n",
      "std              NaN      20.786353       7.213866      43.361589   \n",
      "min              NaN      18.000000      15.000000     150.000000   \n",
      "25%              NaN      36.000000      21.200000     187.000000   \n",
      "50%              NaN      54.000000      27.500000     225.000000   \n",
      "75%              NaN      71.000000      33.700000     262.000000   \n",
      "max              NaN      89.000000      40.000000     299.000000   \n",
      "\n",
      "          Systolic_BP   Diastolic_BP Smoking_Status  Alcohol_Intake  \\\n",
      "count   174982.000000  174982.000000         174982   174982.000000   \n",
      "unique            NaN            NaN              3             NaN   \n",
      "top               NaN            NaN        Current             NaN   \n",
      "freq              NaN            NaN          58574             NaN   \n",
      "mean       134.505229      89.450315            NaN       14.991069   \n",
      "std         26.019268      17.310789            NaN        8.652624   \n",
      "min         90.000000      60.000000            NaN        0.000000   \n",
      "25%        112.000000      74.000000            NaN        7.500000   \n",
      "50%        135.000000      89.000000            NaN       15.000000   \n",
      "75%        157.000000     104.000000            NaN       22.500000   \n",
      "max        179.000000     119.000000            NaN       30.000000   \n",
      "\n",
      "       Physical_Activity_Level Family_History  ... Sleep_Duration  \\\n",
      "count                   174982         174982  ...  174982.000000   \n",
      "unique                       3              2  ...            NaN   \n",
      "top                       High            Yes  ...            NaN   \n",
      "freq                     58462          87491  ...            NaN   \n",
      "mean                       NaN            NaN  ...       6.996468   \n",
      "std                        NaN            NaN  ...       1.730731   \n",
      "min                        NaN            NaN  ...       4.000000   \n",
      "25%                        NaN            NaN  ...       5.500000   \n",
      "50%                        NaN            NaN  ...       7.000000   \n",
      "75%                        NaN            NaN  ...       8.500000   \n",
      "max                        NaN            NaN  ...      10.000000   \n",
      "\n",
      "           Heart_Rate            LDL            HDL  Triglycerides  \\\n",
      "count   174982.000000  174982.000000  174982.000000  174982.000000   \n",
      "unique            NaN            NaN            NaN            NaN   \n",
      "top               NaN            NaN            NaN            NaN   \n",
      "freq              NaN            NaN            NaN            NaN   \n",
      "mean        74.495085     129.528271      64.573105     149.569836   \n",
      "std         14.438573      34.635795      20.190666      57.765006   \n",
      "min         50.000000      70.000000      30.000000      50.000000   \n",
      "25%         62.000000     100.000000      47.000000     100.000000   \n",
      "50%         74.000000     130.000000      65.000000     150.000000   \n",
      "75%         87.000000     160.000000      82.000000     200.000000   \n",
      "max         99.000000     189.000000      99.000000     249.000000   \n",
      "\n",
      "              Glucose  Gender  Education_Level  Employment_Status Hypertension  \n",
      "count   174982.000000  174982           174982             174982       174982  \n",
      "unique            NaN       2                3                  3            2  \n",
      "top               NaN  Female        Secondary            Retired         High  \n",
      "freq              NaN   87675            58633              58559       125781  \n",
      "mean       134.488187     NaN              NaN                NaN          NaN  \n",
      "std         37.526882     NaN              NaN                NaN          NaN  \n",
      "min         70.000000     NaN              NaN                NaN          NaN  \n",
      "25%        102.000000     NaN              NaN                NaN          NaN  \n",
      "50%        134.000000     NaN              NaN                NaN          NaN  \n",
      "75%        167.000000     NaN              NaN                NaN          NaN  \n",
      "max        199.000000     NaN              NaN                NaN          NaN  \n",
      "\n",
      "[11 rows x 23 columns]\n"
     ]
    }
   ],
   "source": [
    "print('Hypertension Dataset Info:')\n",
    "df_hypertension.info()\n",
    "print('Hypertension Dataset Description:')\n",
    "print(df_hypertension.describe(include='all'))"
   ]
  },
  {
   "cell_type": "code",
   "execution_count": 17,
   "id": "3d18f580",
   "metadata": {},
   "outputs": [
    {
     "name": "stdout",
     "output_type": "stream",
     "text": [
      "Hypertension dataset duplicates: 0\n"
     ]
    }
   ],
   "source": [
    "print(\"Hypertension dataset duplicates:\", df_hypertension.duplicated().sum())"
   ]
  },
  {
   "cell_type": "code",
   "execution_count": 19,
   "id": "8456e542",
   "metadata": {},
   "outputs": [
    {
     "name": "stdout",
     "output_type": "stream",
     "text": [
      "Mean: Age                53.493319\n",
      "BMI                27.494672\n",
      "Cholesterol       224.539335\n",
      "Systolic_BP       134.505229\n",
      "Diastolic_BP       89.450315\n",
      "Alcohol_Intake     14.991069\n",
      "Stress_Level        5.013041\n",
      "Salt_Intake         8.482757\n",
      "Sleep_Duration      6.996468\n",
      "Heart_Rate         74.495085\n",
      "LDL               129.528271\n",
      "HDL                64.573105\n",
      "Triglycerides     149.569836\n",
      "Glucose           134.488187\n",
      "dtype: float64\n",
      "Median: Age                54.0\n",
      "BMI                27.5\n",
      "Cholesterol       225.0\n",
      "Systolic_BP       135.0\n",
      "Diastolic_BP       89.0\n",
      "Alcohol_Intake     15.0\n",
      "Stress_Level        5.0\n",
      "Salt_Intake         8.5\n",
      "Sleep_Duration      7.0\n",
      "Heart_Rate         74.0\n",
      "LDL               130.0\n",
      "HDL                65.0\n",
      "Triglycerides     150.0\n",
      "Glucose           134.0\n",
      "dtype: float64\n",
      "Mode: Age                73.0\n",
      "BMI                22.5\n",
      "Cholesterol       178.0\n",
      "Systolic_BP       174.0\n",
      "Diastolic_BP       85.0\n",
      "Alcohol_Intake      6.7\n",
      "Stress_Level        7.0\n",
      "Salt_Intake         9.9\n",
      "Sleep_Duration      6.5\n",
      "Heart_Rate         83.0\n",
      "LDL                79.0\n",
      "HDL                86.0\n",
      "Triglycerides      52.0\n",
      "Glucose           177.0\n",
      "Name: 0, dtype: float64\n"
     ]
    }
   ],
   "source": [
    "print(\"Mean:\", df_hypertension.mean(numeric_only=True))\n",
    "print(\"Median:\", df_hypertension.median(numeric_only=True))\n",
    "print(\"Mode:\", df_hypertension.mode(numeric_only=True).iloc[0])"
   ]
  },
  {
   "cell_type": "code",
   "execution_count": 21,
   "id": "8867aa3a",
   "metadata": {},
   "outputs": [
    {
     "name": "stdout",
     "output_type": "stream",
     "text": [
      "Missing or null values in Hypertension Dataset:\n",
      "Country                    0\n",
      "Age                        0\n",
      "BMI                        0\n",
      "Cholesterol                0\n",
      "Systolic_BP                0\n",
      "Diastolic_BP               0\n",
      "Smoking_Status             0\n",
      "Alcohol_Intake             0\n",
      "Physical_Activity_Level    0\n",
      "Family_History             0\n",
      "Diabetes                   0\n",
      "Stress_Level               0\n",
      "Salt_Intake                0\n",
      "Sleep_Duration             0\n",
      "Heart_Rate                 0\n",
      "LDL                        0\n",
      "HDL                        0\n",
      "Triglycerides              0\n",
      "Glucose                    0\n",
      "Gender                     0\n",
      "Education_Level            0\n",
      "Employment_Status          0\n",
      "Hypertension               0\n",
      "dtype: int64\n"
     ]
    }
   ],
   "source": [
    "print('Missing or null values in Hypertension Dataset:')\n",
    "print(df_hypertension.isnull().sum())"
   ]
  },
  {
   "cell_type": "code",
   "execution_count": 25,
   "id": "fb193c31",
   "metadata": {},
   "outputs": [
    {
     "name": "stdout",
     "output_type": "stream",
     "text": [
      "Index(['Country', 'Age', 'BMI', 'Cholesterol', 'Systolic_BP', 'Diastolic_BP',\n",
      "       'Smoking_Status', 'Alcohol_Intake', 'Physical_Activity_Level',\n",
      "       'Family_History', 'Diabetes', 'Stress_Level', 'Salt_Intake',\n",
      "       'Sleep_Duration', 'Heart_Rate', 'LDL', 'HDL', 'Triglycerides',\n",
      "       'Glucose', 'Gender', 'Education_Level', 'Employment_Status',\n",
      "       'Hypertension'],\n",
      "      dtype='object')\n"
     ]
    }
   ],
   "source": [
    "print(df_hypertension.columns)"
   ]
  },
  {
   "cell_type": "code",
   "execution_count": 28,
   "id": "868bd741",
   "metadata": {},
   "outputs": [
    {
     "name": "stdout",
     "output_type": "stream",
     "text": [
      "Age unique values: [np.int64(18), np.int64(19), np.int64(20), np.int64(21), np.int64(22), np.int64(23), np.int64(24), np.int64(25), np.int64(26), np.int64(27), np.int64(28), np.int64(29), np.int64(30), np.int64(31), np.int64(32), np.int64(33), np.int64(34), np.int64(35), np.int64(36), np.int64(37), np.int64(38), np.int64(39), np.int64(40), np.int64(41), np.int64(42), np.int64(43), np.int64(44), np.int64(45), np.int64(46), np.int64(47), np.int64(48), np.int64(49), np.int64(50), np.int64(51), np.int64(52), np.int64(53), np.int64(54), np.int64(55), np.int64(56), np.int64(57), np.int64(58), np.int64(59), np.int64(60), np.int64(61), np.int64(62), np.int64(63), np.int64(64), np.int64(65), np.int64(66), np.int64(67), np.int64(68), np.int64(69), np.int64(70), np.int64(71), np.int64(72), np.int64(73), np.int64(74), np.int64(75), np.int64(76), np.int64(77), np.int64(78), np.int64(79), np.int64(80), np.int64(81), np.int64(82), np.int64(83), np.int64(84), np.int64(85), np.int64(86), np.int64(87), np.int64(88), np.int64(89)]\n",
      "Systolic_BP unique values: [np.int64(90), np.int64(91), np.int64(92), np.int64(93), np.int64(94), np.int64(95), np.int64(96), np.int64(97), np.int64(98), np.int64(99), np.int64(100), np.int64(101), np.int64(102), np.int64(103), np.int64(104), np.int64(105), np.int64(106), np.int64(107), np.int64(108), np.int64(109), np.int64(110), np.int64(111), np.int64(112), np.int64(113), np.int64(114), np.int64(115), np.int64(116), np.int64(117), np.int64(118), np.int64(119), np.int64(120), np.int64(121), np.int64(122), np.int64(123), np.int64(124), np.int64(125), np.int64(126), np.int64(127), np.int64(128), np.int64(129), np.int64(130), np.int64(131), np.int64(132), np.int64(133), np.int64(134), np.int64(135), np.int64(136), np.int64(137), np.int64(138), np.int64(139), np.int64(140), np.int64(141), np.int64(142), np.int64(143), np.int64(144), np.int64(145), np.int64(146), np.int64(147), np.int64(148), np.int64(149), np.int64(150), np.int64(151), np.int64(152), np.int64(153), np.int64(154), np.int64(155), np.int64(156), np.int64(157), np.int64(158), np.int64(159), np.int64(160), np.int64(161), np.int64(162), np.int64(163), np.int64(164), np.int64(165), np.int64(166), np.int64(167), np.int64(168), np.int64(169), np.int64(170), np.int64(171), np.int64(172), np.int64(173), np.int64(174), np.int64(175), np.int64(176), np.int64(177), np.int64(178), np.int64(179)]\n",
      "Gender unique values: ['Female' 'Male']\n"
     ]
    }
   ],
   "source": [
    "print(\"Age unique values:\", sorted(df_hypertension['Age'].unique()))\n",
    "print(\"Systolic_BP unique values:\", sorted(df_hypertension['Systolic_BP'].unique()))\n",
    "print(\"Gender unique values:\", df_hypertension['Gender'].unique())"
   ]
  },
  {
   "cell_type": "markdown",
   "id": "fa97a496",
   "metadata": {},
   "source": [
    "Age is done numerically (like Kindey, not in range like Diabetes), SBP is normal values, and Gender is done in Female or Male verbiage(encoded below). = clean"
   ]
  },
  {
   "cell_type": "code",
   "execution_count": 29,
   "id": "3a8ef551",
   "metadata": {},
   "outputs": [],
   "source": [
    "df_hypertension = pd.get_dummies(df_hypertension, columns=['Gender'], drop_first=True)"
   ]
  },
  {
   "cell_type": "markdown",
   "id": "e4de2397",
   "metadata": {},
   "source": [
    "Hypertension Dataset Conclusions: The kidney dataset is clean and ready for modeling. No duplicates or null info. Ages, blood pressure, etc. are normal medical values, gender/sex one hot encoded to numerical 0, 1. No major outliers."
   ]
  },
  {
   "cell_type": "markdown",
   "id": "abab9e6d-18cc-4863-b980-3e52f581763a",
   "metadata": {},
   "source": [
    "# 4. Storytelling With Data graph"
   ]
  },
  {
   "cell_type": "markdown",
   "id": "1911148d-9df6-4b33-a875-8c96408ec834",
   "metadata": {},
   "source": [
    "Just like last week: choose any graph in the Introduction of Storytelling With Data. Use matplotlib to reproduce it in a rough way. I don't expect you to spend an enormous amount of time on this; I understand that you likely will not have time to re-create every feature of the graph. However, if you're excited about learning to use matplotlib, this is a good way to do that. You don't have to duplicate the exact values on the graph; just the same rough shape will be enough.  If you don't feel comfortable using matplotlib yet, do the best you can and write down what you tried or what Google searches you did to find the answers."
   ]
  },
  {
   "cell_type": "code",
   "execution_count": 35,
   "id": "8b2888f9-3700-45ab-9829-6a5372106f9f",
   "metadata": {},
   "outputs": [
    {
     "data": {
      "image/png": "[encoded data removed]",
      "text/plain": [
       "<Figure size 640x480 with 1 Axes>"
      ]
     },
     "metadata": {},
     "output_type": "display_data"
    }
   ],
   "source": [
    "import matplotlib.pyplot as plt\n",
    "avg_bmi = df_diabetes.groupby('Diabetes_binary')['BMI'].mean()\n",
    "plt.bar(['No Diabetes', 'Diabetes'], avg_bmi)\n",
    "plt.xlabel('Diabetes Status')\n",
    "plt.ylabel('Average BMI')\n",
    "plt.title('Average BMI by Diabetes Status')\n",
    "plt.show()\n"
   ]
  },
  {
   "cell_type": "code",
   "execution_count": 40,
   "id": "5046c03b",
   "metadata": {},
   "outputs": [
    {
     "data": {
      "image/png": "[encoded data removed]",
      "text/plain": [
       "<Figure size 800x600 with 1 Axes>"
      ]
     },
     "metadata": {},
     "output_type": "display_data"
    }
   ],
   "source": [
    "import matplotlib.pyplot as plt\n",
    "kidney_counts = df_kidney.groupby(['Gender', 'Diagnosis']).size().unstack()\n",
    "kidney_counts.plot(kind='bar', figsize=(8,6), color=['skyblue', 'yellow'])\n",
    "plt.title('Kidney Disease by Gender')\n",
    "plt.xlabel('Gender')\n",
    "plt.ylabel('Number of Individuals')\n",
    "plt.legend(title='Kidney Disease')\n",
    "plt.xticks(rotation=0)\n",
    "plt.tight_layout()\n",
    "plt.show()"
   ]
  },
  {
   "cell_type": "code",
   "execution_count": 41,
   "id": "fceb03c0",
   "metadata": {},
   "outputs": [
    {
     "data": {
      "image/png": "[encoded data removed]",
      "text/plain": [
       "<Figure size 800x500 with 1 Axes>"
      ]
     },
     "metadata": {},
     "output_type": "display_data"
    }
   ],
   "source": [
    "import matplotlib.pyplot as plt\n",
    "activity_hyper_counts = df_hypertension.groupby(['Physical_Activity_Level', 'Hypertension']).size().unstack()\n",
    "activity_hyper_counts.plot(kind='bar', figsize=(8, 5))\n",
    "plt.title('Hypertension by Physical Activity Level')\n",
    "plt.xlabel('Physical Activity Level')\n",
    "plt.ylabel('Number of People')\n",
    "plt.xticks(rotation=0)\n",
    "plt.legend(title='Hypertension')\n",
    "plt.tight_layout()\n",
    "plt.show()"
   ]
  }
 ],
 "metadata": {
  "kernelspec": {
   "display_name": "Python 3",
   "language": "python",
   "name": "python3"
  },
  "language_info": {
   "codemirror_mode": {
    "name": "ipython",
    "version": 3
   },
   "file_extension": ".py",
   "mimetype": "text/x-python",
   "name": "python",
   "nbconvert_exporter": "python",
   "pygments_lexer": "ipython3",
   "version": "3.12.1"
  }
 },
 "nbformat": 4,
 "nbformat_minor": 5
}
